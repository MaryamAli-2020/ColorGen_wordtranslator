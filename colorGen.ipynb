{
  "nbformat": 4,
  "nbformat_minor": 0,
  "metadata": {
    "colab": {
      "provenance": []
    },
    "kernelspec": {
      "name": "python3",
      "display_name": "Python 3"
    },
    "language_info": {
      "name": "python"
    },
    "gpuClass": "standard"
  },
  "cells": [
    {
      "cell_type": "code",
      "source": [
        "pip list"
      ],
      "metadata": {
        "colab": {
          "base_uri": "https://localhost:8080/"
        },
        "id": "k5rhDd6Ngxng",
        "outputId": "9454ccb6-79c1-4257-b486-1cc1c8b54ae7"
      },
      "execution_count": null,
      "outputs": [
        {
          "output_type": "stream",
          "name": "stdout",
          "text": [
            "Package                       Version\n",
            "----------------------------- ----------------------\n",
            "absl-py                       1.3.0\n",
            "aeppl                         0.0.33\n",
            "aesara                        2.7.9\n",
            "aiohttp                       3.8.3\n",
            "aiosignal                     1.3.1\n",
            "alabaster                     0.7.12\n",
            "albumentations                1.2.1\n",
            "altair                        4.2.0\n",
            "appdirs                       1.4.4\n",
            "arviz                         0.12.1\n",
            "astor                         0.8.1\n",
            "astropy                       4.3.1\n",
            "astunparse                    1.6.3\n",
            "async-timeout                 4.0.2\n",
            "atari-py                      0.2.9\n",
            "atomicwrites                  1.4.1\n",
            "attrs                         22.2.0\n",
            "audioread                     3.0.0\n",
            "autograd                      1.5\n",
            "Babel                         2.11.0\n",
            "backcall                      0.2.0\n",
            "beautifulsoup4                4.6.3\n",
            "bleach                        5.0.1\n",
            "blis                          0.7.9\n",
            "bokeh                         2.3.3\n",
            "branca                        0.6.0\n",
            "bs4                           0.0.1\n",
            "CacheControl                  0.12.11\n",
            "cachetools                    5.2.1\n",
            "catalogue                     2.0.8\n",
            "certifi                       2022.12.7\n",
            "cffi                          1.15.1\n",
            "cftime                        1.6.2\n",
            "chardet                       4.0.0\n",
            "charset-normalizer            2.1.1\n",
            "click                         7.1.2\n",
            "clikit                        0.6.2\n",
            "cloudpickle                   2.2.0\n",
            "cmake                         3.22.6\n",
            "cmdstanpy                     1.0.8\n",
            "colorcet                      3.0.1\n",
            "colorlover                    0.3.0\n",
            "community                     1.0.0b1\n",
            "confection                    0.0.3\n",
            "cons                          0.4.5\n",
            "contextlib2                   0.5.5\n",
            "convertdate                   2.4.0\n",
            "crashtest                     0.3.1\n",
            "crcmod                        1.7\n",
            "cufflinks                     0.17.3\n",
            "cvxopt                        1.3.0\n",
            "cvxpy                         1.2.3\n",
            "cycler                        0.11.0\n",
            "cymem                         2.0.7\n",
            "Cython                        0.29.33\n",
            "daft                          0.0.4\n",
            "dask                          2022.2.1\n",
            "datascience                   0.17.5\n",
            "db-dtypes                     1.0.5\n",
            "dbus-python                   1.2.16\n",
            "debugpy                       1.0.0\n",
            "decorator                     4.4.2\n",
            "defusedxml                    0.7.1\n",
            "descartes                     1.1.0\n",
            "dill                          0.3.6\n",
            "distributed                   2022.2.1\n",
            "dlib                          19.24.0\n",
            "dm-tree                       0.1.8\n",
            "dnspython                     2.2.1\n",
            "docutils                      0.16\n",
            "dopamine-rl                   1.0.5\n",
            "earthengine-api               0.1.335\n",
            "easydict                      1.10\n",
            "ecos                          2.0.12\n",
            "editdistance                  0.5.3\n",
            "en-core-web-sm                3.4.1\n",
            "entrypoints                   0.4\n",
            "ephem                         4.1.4\n",
            "et-xmlfile                    1.1.0\n",
            "etils                         1.0.0\n",
            "etuples                       0.3.8\n",
            "fa2                           0.3.5\n",
            "fastai                        2.7.10\n",
            "fastcore                      1.5.27\n",
            "fastdownload                  0.0.7\n",
            "fastdtw                       0.3.4\n",
            "fastjsonschema                2.16.2\n",
            "fastprogress                  1.0.3\n",
            "fastrlock                     0.8.1\n",
            "feather-format                0.4.1\n",
            "filelock                      3.9.0\n",
            "firebase-admin                5.3.0\n",
            "fix-yahoo-finance             0.0.22\n",
            "Flask                         1.1.4\n",
            "flatbuffers                   1.12\n",
            "folium                        0.12.1.post1\n",
            "frozenlist                    1.3.3\n",
            "fsspec                        2022.11.0\n",
            "future                        0.16.0\n",
            "gast                          0.4.0\n",
            "GDAL                          3.0.4\n",
            "gdown                         4.4.0\n",
            "gensim                        3.6.0\n",
            "geographiclib                 1.52\n",
            "geopy                         1.17.0\n",
            "gin-config                    0.5.0\n",
            "glob2                         0.7\n",
            "google                        2.0.3\n",
            "google-api-core               2.11.0\n",
            "google-api-python-client      2.70.0\n",
            "google-auth                   2.16.0\n",
            "google-auth-httplib2          0.1.0\n",
            "google-auth-oauthlib          0.4.6\n",
            "google-cloud-bigquery         3.4.1\n",
            "google-cloud-bigquery-storage 2.17.0\n",
            "google-cloud-core             2.3.2\n",
            "google-cloud-datastore        2.11.1\n",
            "google-cloud-firestore        2.7.3\n",
            "google-cloud-language         2.6.1\n",
            "google-cloud-storage          2.7.0\n",
            "google-cloud-translate        3.8.4\n",
            "google-colab                  1.0.0\n",
            "google-crc32c                 1.5.0\n",
            "google-pasta                  0.2.0\n",
            "google-resumable-media        2.4.0\n",
            "googleapis-common-protos      1.58.0\n",
            "googledrivedownloader         0.4\n",
            "graphviz                      0.10.1\n",
            "greenlet                      2.0.1\n",
            "grpcio                        1.51.1\n",
            "grpcio-status                 1.48.2\n",
            "gspread                       3.4.2\n",
            "gspread-dataframe             3.0.8\n",
            "gym                           0.25.2\n",
            "gym-notices                   0.0.8\n",
            "h5py                          3.1.0\n",
            "HeapDict                      1.0.1\n",
            "hijri-converter               2.2.4\n",
            "holidays                      0.18\n",
            "holoviews                     1.14.9\n",
            "html5lib                      1.0.1\n",
            "httpimport                    0.5.18\n",
            "httplib2                      0.17.4\n",
            "httpstan                      4.6.1\n",
            "humanize                      0.5.1\n",
            "hyperopt                      0.1.2\n",
            "idna                          2.10\n",
            "imageio                       2.9.0\n",
            "imagesize                     1.4.1\n",
            "imbalanced-learn              0.8.1\n",
            "imblearn                      0.0\n",
            "imgaug                        0.4.0\n",
            "importlib-metadata            6.0.0\n",
            "importlib-resources           5.10.2\n",
            "imutils                       0.5.4\n",
            "inflect                       2.1.0\n",
            "intel-openmp                  2023.0.0\n",
            "intervaltree                  2.1.0\n",
            "ipykernel                     5.3.4\n",
            "ipython                       7.9.0\n",
            "ipython-genutils              0.2.0\n",
            "ipython-sql                   0.3.9\n",
            "ipywidgets                    7.7.1\n",
            "itsdangerous                  1.1.0\n",
            "jax                           0.3.25\n",
            "jaxlib                        0.3.25+cuda11.cudnn805\n",
            "jieba                         0.42.1\n",
            "Jinja2                        2.11.3\n",
            "joblib                        1.2.0\n",
            "jpeg4py                       0.1.4\n",
            "jsonschema                    4.3.3\n",
            "jupyter-client                6.1.12\n",
            "jupyter-console               6.1.0\n",
            "jupyter_core                  5.1.3\n",
            "jupyterlab-widgets            3.0.5\n",
            "kaggle                        1.5.12\n",
            "kapre                         0.3.7\n",
            "keras                         2.9.0\n",
            "Keras-Preprocessing           1.1.2\n",
            "keras-vis                     0.4.1\n",
            "kiwisolver                    1.4.4\n",
            "korean-lunar-calendar         0.3.1\n",
            "langcodes                     3.3.0\n",
            "libclang                      15.0.6.1\n",
            "librosa                       0.8.1\n",
            "lightgbm                      2.2.3\n",
            "llvmlite                      0.39.1\n",
            "lmdb                          0.99\n",
            "locket                        1.0.0\n",
            "logical-unification           0.4.5\n",
            "LunarCalendar                 0.0.9\n",
            "lxml                          4.9.2\n",
            "Markdown                      3.4.1\n",
            "MarkupSafe                    2.0.1\n",
            "marshmallow                   3.19.0\n",
            "matplotlib                    3.2.2\n",
            "matplotlib-venn               0.11.7\n",
            "miniKanren                    1.0.3\n",
            "missingno                     0.5.1\n",
            "mistune                       0.8.4\n",
            "mizani                        0.7.3\n",
            "mkl                           2019.0\n",
            "mlxtend                       0.14.0\n",
            "more-itertools                9.0.0\n",
            "moviepy                       0.2.3.5\n",
            "mpmath                        1.2.1\n",
            "msgpack                       1.0.4\n",
            "multidict                     6.0.4\n",
            "multipledispatch              0.6.0\n",
            "multitasking                  0.0.11\n",
            "murmurhash                    1.0.9\n",
            "music21                       5.5.0\n",
            "natsort                       5.5.0\n",
            "nbconvert                     5.6.1\n",
            "nbformat                      5.7.1\n",
            "netCDF4                       1.6.2\n",
            "networkx                      3.0\n",
            "nibabel                       3.0.2\n",
            "nltk                          3.7\n",
            "notebook                      5.7.16\n",
            "numba                         0.56.4\n",
            "numexpr                       2.8.4\n",
            "numpy                         1.21.6\n",
            "oauth2client                  4.1.3\n",
            "oauthlib                      3.2.2\n",
            "okgrade                       0.4.3\n",
            "opencv-contrib-python         4.6.0.66\n",
            "opencv-python                 4.6.0.66\n",
            "opencv-python-headless        4.7.0.68\n",
            "openpyxl                      3.0.10\n",
            "opt-einsum                    3.3.0\n",
            "osqp                          0.6.2.post0\n",
            "packaging                     21.3\n",
            "palettable                    3.3.0\n",
            "pandas                        1.3.5\n",
            "pandas-datareader             0.9.0\n",
            "pandas-gbq                    0.17.9\n",
            "pandas-profiling              1.4.1\n",
            "pandocfilters                 1.5.0\n",
            "panel                         0.12.1\n",
            "param                         1.12.3\n",
            "parso                         0.8.3\n",
            "partd                         1.3.0\n",
            "pastel                        0.2.1\n",
            "pathlib                       1.0.1\n",
            "pathy                         0.10.1\n",
            "patsy                         0.5.3\n",
            "pep517                        0.13.0\n",
            "pexpect                       4.8.0\n",
            "pickleshare                   0.7.5\n",
            "Pillow                        7.1.2\n",
            "pip                           22.0.4\n",
            "pip-tools                     6.6.2\n",
            "platformdirs                  2.6.2\n",
            "plotly                        5.5.0\n",
            "plotnine                      0.8.0\n",
            "pluggy                        0.7.1\n",
            "pooch                         1.6.0\n",
            "portpicker                    1.3.9\n",
            "prefetch-generator            1.0.3\n",
            "preshed                       3.0.8\n",
            "prettytable                   3.6.0\n",
            "progressbar2                  3.38.0\n",
            "prometheus-client             0.15.0\n",
            "promise                       2.3\n",
            "prompt-toolkit                2.0.10\n",
            "prophet                       1.1.1\n",
            "proto-plus                    1.22.2\n",
            "protobuf                      3.19.6\n",
            "psutil                        5.4.8\n",
            "psycopg2                      2.9.5\n",
            "ptyprocess                    0.7.0\n",
            "py                            1.11.0\n",
            "pyarrow                       9.0.0\n",
            "pyasn1                        0.4.8\n",
            "pyasn1-modules                0.2.8\n",
            "pycocotools                   2.0.6\n",
            "pycparser                     2.21\n",
            "pyct                          0.4.8\n",
            "pydantic                      1.10.4\n",
            "pydata-google-auth            1.5.0\n",
            "pydot                         1.3.0\n",
            "pydot-ng                      2.0.0\n",
            "pydotplus                     2.0.2\n",
            "PyDrive                       1.3.1\n",
            "pyemd                         0.5.1\n",
            "pyerfa                        2.0.0.1\n",
            "Pygments                      2.6.1\n",
            "PyGObject                     3.36.0\n",
            "pylev                         1.4.0\n",
            "pymc                          4.1.4\n",
            "PyMeeus                       0.5.12\n",
            "pymongo                       4.3.3\n",
            "pymystem3                     0.2.0\n",
            "PyOpenGL                      3.1.6\n",
            "pyparsing                     3.0.9\n",
            "pyrsistent                    0.19.3\n",
            "pysimdjson                    3.2.0\n",
            "PySocks                       1.7.1\n",
            "pystan                        3.3.0\n",
            "pytest                        3.6.4\n",
            "python-apt                    2.0.0+ubuntu0.20.4.8\n",
            "python-dateutil               2.8.2\n",
            "python-louvain                0.16\n",
            "python-slugify                7.0.0\n",
            "python-utils                  3.4.5\n",
            "pytz                          2022.7\n",
            "pyviz-comms                   2.2.1\n",
            "PyWavelets                    1.4.1\n",
            "PyYAML                        6.0\n",
            "pyzmq                         23.2.1\n",
            "qdldl                         0.1.5.post2\n",
            "qudida                        0.0.4\n",
            "regex                         2022.6.2\n",
            "requests                      2.25.1\n",
            "requests-oauthlib             1.3.1\n",
            "requests-unixsocket           0.2.0\n",
            "resampy                       0.4.2\n",
            "rpy2                          3.5.5\n",
            "rsa                           4.9\n",
            "scikit-image                  0.18.3\n",
            "scikit-learn                  1.0.2\n",
            "scipy                         1.7.3\n",
            "screen-resolution-extra       0.0.0\n",
            "scs                           3.2.2\n",
            "seaborn                       0.11.2\n",
            "Send2Trash                    1.8.0\n",
            "setuptools                    57.4.0\n",
            "setuptools-git                1.2\n",
            "shapely                       2.0.0\n",
            "six                           1.15.0\n",
            "sklearn-pandas                1.8.0\n",
            "smart-open                    6.3.0\n",
            "snowballstemmer               2.2.0\n",
            "sortedcontainers              2.4.0\n",
            "soundfile                     0.11.0\n",
            "spacy                         3.4.4\n",
            "spacy-legacy                  3.0.11\n",
            "spacy-loggers                 1.0.4\n",
            "Sphinx                        3.5.4\n",
            "sphinxcontrib.applehelp       1.0.3\n",
            "sphinxcontrib-devhelp         1.0.2\n",
            "sphinxcontrib-htmlhelp        2.0.0\n",
            "sphinxcontrib-jsmath          1.0.1\n",
            "sphinxcontrib-qthelp          1.0.3\n",
            "sphinxcontrib-serializinghtml 1.1.5\n",
            "SQLAlchemy                    1.4.46\n",
            "sqlparse                      0.4.3\n",
            "srsly                         2.4.5\n",
            "statsmodels                   0.12.2\n",
            "sympy                         1.7.1\n",
            "tables                        3.7.0\n",
            "tabulate                      0.8.10\n",
            "tblib                         1.7.0\n",
            "tenacity                      8.1.0\n",
            "tensorboard                   2.9.1\n",
            "tensorboard-data-server       0.6.1\n",
            "tensorboard-plugin-wit        1.8.1\n",
            "tensorflow                    2.9.2\n",
            "tensorflow-datasets           4.8.1\n",
            "tensorflow-estimator          2.9.0\n",
            "tensorflow-gcs-config         2.9.1\n",
            "tensorflow-hub                0.12.0\n",
            "tensorflow-io-gcs-filesystem  0.29.0\n",
            "tensorflow-metadata           1.12.0\n",
            "tensorflow-probability        0.17.0\n",
            "termcolor                     2.2.0\n",
            "terminado                     0.13.3\n",
            "testpath                      0.6.0\n",
            "text-unidecode                1.3\n",
            "textblob                      0.15.3\n",
            "thinc                         8.1.6\n",
            "threadpoolctl                 3.1.0\n",
            "tifffile                      2022.10.10\n",
            "toml                          0.10.2\n",
            "tomli                         2.0.1\n",
            "toolz                         0.12.0\n",
            "torch                         1.13.1+cu116\n",
            "torchaudio                    0.13.1+cu116\n",
            "torchsummary                  1.5.1\n",
            "torchtext                     0.14.1\n",
            "torchvision                   0.14.1+cu116\n",
            "tornado                       6.0.4\n",
            "tqdm                          4.64.1\n",
            "traitlets                     5.7.1\n",
            "tweepy                        3.10.0\n",
            "typeguard                     2.7.1\n",
            "typer                         0.7.0\n",
            "typing_extensions             4.4.0\n",
            "tzlocal                       1.5.1\n",
            "uritemplate                   4.1.1\n",
            "urllib3                       1.24.3\n",
            "vega-datasets                 0.9.0\n",
            "wasabi                        0.10.1\n",
            "wcwidth                       0.2.5\n",
            "webargs                       8.2.0\n",
            "webencodings                  0.5.1\n",
            "Werkzeug                      1.0.1\n",
            "wheel                         0.38.4\n",
            "widgetsnbextension            3.6.1\n",
            "wordcloud                     1.8.2.2\n",
            "wrapt                         1.14.1\n",
            "xarray                        2022.12.0\n",
            "xarray-einstats               0.4.0\n",
            "xgboost                       0.90\n",
            "xkit                          0.0.0\n",
            "xlrd                          1.2.0\n",
            "xlwt                          1.3.0\n",
            "yarl                          1.8.2\n",
            "yellowbrick                   1.5\n",
            "zict                          2.2.0\n",
            "zipp                          3.11.0\n"
          ]
        }
      ]
    },
    {
      "cell_type": "code",
      "source": [
        "pip install --upgrade pip setuptools"
      ],
      "metadata": {
        "colab": {
          "base_uri": "https://localhost:8080/"
        },
        "id": "3mZqf6gqtc_a",
        "outputId": "031ee426-16ab-441c-a282-22ae6837c4f8"
      },
      "execution_count": null,
      "outputs": [
        {
          "output_type": "stream",
          "name": "stdout",
          "text": [
            "Looking in indexes: https://pypi.org/simple, https://us-python.pkg.dev/colab-wheels/public/simple/\n",
            "Requirement already satisfied: pip in /usr/local/lib/python3.8/dist-packages (22.0.4)\n",
            "Collecting pip\n",
            "  Downloading pip-22.3.1-py3-none-any.whl (2.1 MB)\n",
            "\u001b[2K     \u001b[90m━━━━━━━━━━━━━━━━━━━━━━━━━━━━━━━━━━━━━━━━\u001b[0m \u001b[32m2.1/2.1 MB\u001b[0m \u001b[31m56.0 MB/s\u001b[0m eta \u001b[36m0:00:00\u001b[0m\n",
            "\u001b[?25hRequirement already satisfied: setuptools in /usr/local/lib/python3.8/dist-packages (57.4.0)\n",
            "Collecting setuptools\n",
            "  Downloading setuptools-66.0.0-py3-none-any.whl (1.3 MB)\n",
            "\u001b[2K     \u001b[90m━━━━━━━━━━━━━━━━━━━━━━━━━━━━━━━━━━━━━━━━\u001b[0m \u001b[32m1.3/1.3 MB\u001b[0m \u001b[31m61.8 MB/s\u001b[0m eta \u001b[36m0:00:00\u001b[0m\n",
            "\u001b[?25hInstalling collected packages: setuptools, pip\n",
            "  Attempting uninstall: setuptools\n",
            "    Found existing installation: setuptools 57.4.0\n",
            "    Uninstalling setuptools-57.4.0:\n",
            "      Successfully uninstalled setuptools-57.4.0\n",
            "  Attempting uninstall: pip\n",
            "    Found existing installation: pip 22.0.4\n",
            "    Uninstalling pip-22.0.4:\n",
            "      Successfully uninstalled pip-22.0.4\n",
            "\u001b[31mERROR: pip's dependency resolver does not currently take into account all the packages that are installed. This behaviour is the source of the following dependency conflicts.\n",
            "ipython 7.9.0 requires jedi>=0.10, which is not installed.\n",
            "cvxpy 1.2.3 requires setuptools<=64.0.2, but you have setuptools 66.0.0 which is incompatible.\u001b[0m\u001b[31m\n",
            "\u001b[0mSuccessfully installed pip-22.3.1 setuptools-66.0.0\n"
          ]
        }
      ]
    },
    {
      "cell_type": "code",
      "source": [
        "!pip install PyDictionary"
      ],
      "metadata": {
        "colab": {
          "base_uri": "https://localhost:8080/"
        },
        "id": "zuydMWXMrDSb",
        "outputId": "05273c38-ff0d-4543-b385-766dca8dcd47"
      },
      "execution_count": null,
      "outputs": [
        {
          "output_type": "stream",
          "name": "stdout",
          "text": [
            "Looking in indexes: https://pypi.org/simple, https://us-python.pkg.dev/colab-wheels/public/simple/\n",
            "Requirement already satisfied: PyDictionary in /usr/local/lib/python3.8/dist-packages (2.0.1)\n",
            "Requirement already satisfied: goslate in /usr/local/lib/python3.8/dist-packages (from PyDictionary) (1.5.4)\n",
            "Requirement already satisfied: requests in /usr/local/lib/python3.8/dist-packages (from PyDictionary) (2.25.1)\n",
            "Requirement already satisfied: bs4 in /usr/local/lib/python3.8/dist-packages (from PyDictionary) (0.0.1)\n",
            "Requirement already satisfied: click in /usr/local/lib/python3.8/dist-packages (from PyDictionary) (7.1.2)\n",
            "Requirement already satisfied: beautifulsoup4 in /usr/local/lib/python3.8/dist-packages (from bs4->PyDictionary) (4.6.3)\n",
            "Requirement already satisfied: futures in /usr/local/lib/python3.8/dist-packages (from goslate->PyDictionary) (3.0.5)\n",
            "Requirement already satisfied: urllib3<1.27,>=1.21.1 in /usr/local/lib/python3.8/dist-packages (from requests->PyDictionary) (1.24.3)\n",
            "Requirement already satisfied: certifi>=2017.4.17 in /usr/local/lib/python3.8/dist-packages (from requests->PyDictionary) (2022.12.7)\n",
            "Requirement already satisfied: chardet<5,>=3.0.2 in /usr/local/lib/python3.8/dist-packages (from requests->PyDictionary) (4.0.0)\n",
            "Requirement already satisfied: idna<3,>=2.5 in /usr/local/lib/python3.8/dist-packages (from requests->PyDictionary) (2.10)\n",
            "\u001b[33mWARNING: Running pip as the 'root' user can result in broken permissions and conflicting behaviour with the system package manager. It is recommended to use a virtual environment instead: https://pip.pypa.io/warnings/venv\u001b[0m\u001b[33m\n",
            "\u001b[0m"
          ]
        }
      ]
    },
    {
      "cell_type": "code",
      "source": [
        "pip install language_data"
      ],
      "metadata": {
        "colab": {
          "base_uri": "https://localhost:8080/"
        },
        "id": "z_n9zcC1t8Yj",
        "outputId": "7413d2c6-cee0-4667-da76-a8052e6f1c6b"
      },
      "execution_count": null,
      "outputs": [
        {
          "output_type": "stream",
          "name": "stdout",
          "text": [
            "Looking in indexes: https://pypi.org/simple, https://us-python.pkg.dev/colab-wheels/public/simple/\n",
            "Collecting language_data\n",
            "  Downloading language_data-1.1-py3-none-any.whl (4.9 MB)\n",
            "\u001b[2K     \u001b[90m━━━━━━━━━━━━━━━━━━━━━━━━━━━━━━━━━━━━━━━━\u001b[0m \u001b[32m4.9/4.9 MB\u001b[0m \u001b[31m65.0 MB/s\u001b[0m eta \u001b[36m0:00:00\u001b[0m\n",
            "\u001b[?25hCollecting marisa-trie<0.8.0,>=0.7.7\n",
            "  Downloading marisa_trie-0.7.8-cp38-cp38-manylinux_2_17_x86_64.manylinux2014_x86_64.whl (1.2 MB)\n",
            "\u001b[2K     \u001b[90m━━━━━━━━━━━━━━━━━━━━━━━━━━━━━━━━━━━━━━━━\u001b[0m \u001b[32m1.2/1.2 MB\u001b[0m \u001b[31m51.4 MB/s\u001b[0m eta \u001b[36m0:00:00\u001b[0m\n",
            "\u001b[?25hRequirement already satisfied: setuptools in /usr/local/lib/python3.8/dist-packages (from marisa-trie<0.8.0,>=0.7.7->language_data) (66.0.0)\n",
            "Installing collected packages: marisa-trie, language_data\n",
            "Successfully installed language_data-1.1 marisa-trie-0.7.8\n",
            "\u001b[33mWARNING: Running pip as the 'root' user can result in broken permissions and conflicting behaviour with the system package manager. It is recommended to use a virtual environment instead: https://pip.pypa.io/warnings/venv\u001b[0m\u001b[33m\n",
            "\u001b[0m"
          ]
        }
      ]
    },
    {
      "cell_type": "markdown",
      "source": [
        "#color generator"
      ],
      "metadata": {
        "id": "BW047suu9uU1"
      }
    },
    {
      "cell_type": "code",
      "source": [
        "import re"
      ],
      "metadata": {
        "id": "i_a7K19g8-Iy"
      },
      "execution_count": null,
      "outputs": []
    },
    {
      "cell_type": "code",
      "execution_count": null,
      "metadata": {
        "colab": {
          "base_uri": "https://localhost:8080/"
        },
        "id": "dbLPg-zca-p9",
        "outputId": "068abaf9-9c15-408a-ef7e-1b381b0bb948"
      },
      "outputs": [
        {
          "output_type": "stream",
          "name": "stdout",
          "text": [
            "\t\t\t\t\t\t\t\t\t  𝓒𝓞𝓛𝓞𝓡 𝓖𝓔𝓝𝓔𝓡𝓐𝓣𝓞𝓡\n",
            "\u001b[1m\n",
            "\u001b[48;5;21m\t\t\t\t\t#1   \u001b[0m\u001b[1m\u001b[48;5;42m\t\t\t\t\t#2   \u001b[0m\u001b[1m\u001b[48;5;39m\t\t\t\t\t#3   \u001b[0m\u001b[1m\u001b[48;5;30m\t\t\t\t\t#4   \u001b[0m\u001b[1m"
          ]
        }
      ],
      "source": [
        "import sys\n",
        "import random\n",
        "global codecolor\n",
        "global close\n",
        "bg_color =[]\n",
        "close = '\\u001b[0m'\n",
        "spaces = \"\\t\\t\\t\\t\\t\"\n",
        "print(spaces+\"\\t\\t\\t\\t  𝓒𝓞𝓛𝓞𝓡 𝓖𝓔𝓝𝓔𝓡𝓐𝓣𝓞𝓡\\n\\u001b[1m\")\n",
        "while(len(bg_color)!=4):\n",
        "    code = \"\\u001b[48;5;\"+str(random.randrange(0,16) * 3)+\"m\"\n",
        "    if not(code in bg_color):\n",
        "      sys.stdout.write(code + spaces +\"#\"+str(len(bg_color)+1).ljust(4))\n",
        "      print(close+\"\\u001b[1m\", end='')\n",
        "      bg_color.append(code)\n",
        "    else:\n",
        "      continue"
      ]
    },
    {
      "cell_type": "code",
      "source": [
        "bg_color = list(map(lambda x: x.strip(), bg_color))"
      ],
      "metadata": {
        "id": "zU66VKCTg9xw"
      },
      "execution_count": null,
      "outputs": []
    },
    {
      "cell_type": "markdown",
      "source": [
        "**MY BG_COLOR PALLETE**"
      ],
      "metadata": {
        "id": "phSVFKfKb00b"
      }
    },
    {
      "cell_type": "code",
      "source": [
        "bg_color"
      ],
      "metadata": {
        "colab": {
          "base_uri": "https://localhost:8080/"
        },
        "id": "L7Z7m54ul7Vn",
        "outputId": "3371a83a-02e0-4b44-be4e-d84ca1f108db"
      },
      "execution_count": null,
      "outputs": [
        {
          "output_type": "execute_result",
          "data": {
            "text/plain": [
              "['\\x1b[48;5;21m', '\\x1b[48;5;42m', '\\x1b[48;5;39m', '\\x1b[48;5;30m']"
            ]
          },
          "metadata": {},
          "execution_count": 5
        }
      ]
    },
    {
      "cell_type": "code",
      "source": [
        "font_color = bg_color.copy()\n",
        "font_color = ((','.join(font_color)).replace('\\u001b[48;5;', '\\u001b[38;5;')).split(',')"
      ],
      "metadata": {
        "id": "CptvSuX2alnK"
      },
      "execution_count": null,
      "outputs": []
    },
    {
      "cell_type": "markdown",
      "source": [
        "**MY FONT_COLOR PALLETE**"
      ],
      "metadata": {
        "id": "IeEHy3JsbrhA"
      }
    },
    {
      "cell_type": "code",
      "source": [
        "font_color"
      ],
      "metadata": {
        "colab": {
          "base_uri": "https://localhost:8080/"
        },
        "id": "WvU6fXXZalhe",
        "outputId": "41c23917-e925-4ccb-da80-e4c19865bb29"
      },
      "execution_count": null,
      "outputs": [
        {
          "output_type": "execute_result",
          "data": {
            "text/plain": [
              "['\\x1b[38;5;21m', '\\x1b[38;5;42m', '\\x1b[38;5;39m', '\\x1b[38;5;30m']"
            ]
          },
          "metadata": {},
          "execution_count": 7
        }
      ]
    },
    {
      "cell_type": "code",
      "source": [
        "#now we can use them\n",
        "print(bg_color[3]+\"Hello!! It's Maryam :)\")"
      ],
      "metadata": {
        "colab": {
          "base_uri": "https://localhost:8080/"
        },
        "id": "1JE3aFdWm8ke",
        "outputId": "4babd3da-33d9-4915-9abd-31288d142907"
      },
      "execution_count": null,
      "outputs": [
        {
          "output_type": "stream",
          "name": "stdout",
          "text": [
            "\u001b[48;5;30mHello!! It's Maryam :)\n"
          ]
        }
      ]
    },
    {
      "cell_type": "code",
      "source": [
        "#i have an idea about creatin an alg. that would highlight desired words entered by the user, this is equivilent to \"search/ctrlF\" \n",
        "def findWords(message, word):\n",
        "  # message.replace(word, codecolor[2]+word+close)\n",
        "  compiled = re.compile(re.escape(word), re.IGNORECASE)\n",
        "  res = compiled.sub(bg_color[random.randrange(0,4)]+word+close, message)\n",
        "\n",
        "  print(\"\\n\\u001b[1mFound\",res.count(close),\"Matches!\\n\",close)\n",
        "  return str(res)"
      ],
      "metadata": {
        "id": "9mpFrY7Fn-6F"
      },
      "execution_count": null,
      "outputs": []
    },
    {
      "cell_type": "code",
      "source": [
        "file = open('/content/antibioticsExamples.txt', 'r')\n",
        "file = file.read()\n",
        "highlighted = findWords(file, 'Antibiotic')\n",
        "print(highlighted)"
      ],
      "metadata": {
        "colab": {
          "base_uri": "https://localhost:8080/"
        },
        "id": "cmA382Fp6ZND",
        "outputId": "52766a7a-3877-4e40-f3c3-175ed0a0b9e5"
      },
      "execution_count": null,
      "outputs": [
        {
          "output_type": "stream",
          "name": "stdout",
          "text": [
            "\n",
            "\u001b[1mFound 8 Matches!\n",
            " \u001b[0m\n",
            "\u001b[48;5;30mAntibiotic\u001b[0m-resistant infections are already widespread in the U.S. and across the globe.1 A 2011 national survey of infectious-disease specialists, conducted by the IDSA Emerging Infections Network, found that more than 60% of participants had seen a pan-resistant, untreatable bacterial infection within the prior year.7 Many public health organizations have described the rapid emergence of resistant bacteria as a “crisis” or “nightmare scenario” that could have “catastrophic consequences.”8 The CDC declared in 2013 that the human race is now in the “post-\u001b[48;5;30mAntibiotic\u001b[0m era,” and in 2014, the World Health Organization (WHO) warned that the \u001b[48;5;30mAntibiotic\u001b[0m resistance crisis is becoming dire.15 MDR bacteria have been declared a substantial threat to U.S. public health and national security by the IDSA and the Institute of Medicine, as well as the federal Interagency Task Force on Antimicrobial Resistance.1\n",
            "\n",
            "Among gram-positive pathogens, a global pandemic of resistant S. aureus and Enterococcus species currently poses the biggest threat.5,16 MRSA kills more Americans each year than HIV/AIDS, Parkinson’s disease, emphysema, and homicide combined.1,12 Vancomycin-resistant enterococci (VRE) and a growing number of additional pathogens are developing resistance to many common \u001b[48;5;30mAntibiotic\u001b[0ms.1 The global spread of drug resistance among common respiratory pathogens, including Streptococcus pneumoniae and Mycobacterium tuberculosis, is epidemic.16\n",
            "\n",
            "Gram-negative pathogens are particularly worrisome because they are becoming resistant to nearly all the \u001b[48;5;30mAntibiotic\u001b[0m drug options available, creating situations reminiscent of the pre-\u001b[48;5;30mAntibiotic\u001b[0m era.1,5,16 The emergence of MDR (and increasingly pan-resistant) gram-negative bacilli has affected practice in every field of medicine.1 The most serious gram-negative infections occur in health care settings and are most commonly caused by Enterobacteriaceae (mostly Klebsiella pneumoniae), Pseudomonas aeruginosa, and Acinetobacter.5,16 MDR gram-negative pathogens are also becoming increasingly prevalent in the community.16 These include extended-spectrum beta-lactamase-producing Escherichia coli and Neisseria gonorrhoeae.16\n",
            "\n",
            "The CDC assessed \u001b[48;5;30mAntibiotic\u001b[0m-resistant bacterial infections according to seven factors: clinical impact, economic impact, incidence, 10-year projection of incidence, transmissibility, availability of effective \u001b[48;5;30mAntibiotic\u001b[0ms, and barriers to prevention.5 The threat level of each bacteria was then classified as “urgent,” “serious,” or “concerning” (Table 1).16 In general, threats that are urgent or serious require more monitoring and prevention activities, whereas those considered concerning require less.5 A summary of information regarding the resistant bacteria mentioned above follows. Information regarding other strains of resistant bacteria that have been identified as threats by the CDC can be found at http://www.cdc.gov/drugresistance/threat-report-2013/pdf/ar-threats-2013-508.pdf.5\n"
          ]
        }
      ]
    },
    {
      "cell_type": "code",
      "source": [
        "search=str(input('enter a word you\\'d like to search\\t'))\n",
        "print(findWords(file, search))"
      ],
      "metadata": {
        "colab": {
          "base_uri": "https://localhost:8080/"
        },
        "id": "UvuM9M5Q-PS-",
        "outputId": "ef46019d-b9f2-4c17-c043-7c90fc6ce666"
      },
      "execution_count": null,
      "outputs": [
        {
          "output_type": "stream",
          "name": "stdout",
          "text": [
            "enter a word you'd like to search\tdisease\n",
            "\n",
            "\u001b[1mFound 2 Matches!\n",
            " \u001b[0m\n",
            "Antibiotic-resistant infections are already widespread in the U.S. and across the globe.1 A 2011 national survey of infectious-\u001b[48;5;39mdisease\u001b[0m specialists, conducted by the IDSA Emerging Infections Network, found that more than 60% of participants had seen a pan-resistant, untreatable bacterial infection within the prior year.7 Many public health organizations have described the rapid emergence of resistant bacteria as a “crisis” or “nightmare scenario” that could have “catastrophic consequences.”8 The CDC declared in 2013 that the human race is now in the “post-antibiotic era,” and in 2014, the World Health Organization (WHO) warned that the antibiotic resistance crisis is becoming dire.15 MDR bacteria have been declared a substantial threat to U.S. public health and national security by the IDSA and the Institute of Medicine, as well as the federal Interagency Task Force on Antimicrobial Resistance.1\n",
            "\n",
            "Among gram-positive pathogens, a global pandemic of resistant S. aureus and Enterococcus species currently poses the biggest threat.5,16 MRSA kills more Americans each year than HIV/AIDS, Parkinson’s \u001b[48;5;39mdisease\u001b[0m, emphysema, and homicide combined.1,12 Vancomycin-resistant enterococci (VRE) and a growing number of additional pathogens are developing resistance to many common antibiotics.1 The global spread of drug resistance among common respiratory pathogens, including Streptococcus pneumoniae and Mycobacterium tuberculosis, is epidemic.16\n",
            "\n",
            "Gram-negative pathogens are particularly worrisome because they are becoming resistant to nearly all the antibiotic drug options available, creating situations reminiscent of the pre-antibiotic era.1,5,16 The emergence of MDR (and increasingly pan-resistant) gram-negative bacilli has affected practice in every field of medicine.1 The most serious gram-negative infections occur in health care settings and are most commonly caused by Enterobacteriaceae (mostly Klebsiella pneumoniae), Pseudomonas aeruginosa, and Acinetobacter.5,16 MDR gram-negative pathogens are also becoming increasingly prevalent in the community.16 These include extended-spectrum beta-lactamase-producing Escherichia coli and Neisseria gonorrhoeae.16\n",
            "\n",
            "The CDC assessed antibiotic-resistant bacterial infections according to seven factors: clinical impact, economic impact, incidence, 10-year projection of incidence, transmissibility, availability of effective antibiotics, and barriers to prevention.5 The threat level of each bacteria was then classified as “urgent,” “serious,” or “concerning” (Table 1).16 In general, threats that are urgent or serious require more monitoring and prevention activities, whereas those considered concerning require less.5 A summary of information regarding the resistant bacteria mentioned above follows. Information regarding other strains of resistant bacteria that have been identified as threats by the CDC can be found at http://www.cdc.gov/drugresistance/threat-report-2013/pdf/ar-threats-2013-508.pdf.5\n"
          ]
        }
      ]
    },
    {
      "cell_type": "markdown",
      "source": [
        "#word meaning and translator"
      ],
      "metadata": {
        "id": "98LGwkBy9y3t"
      }
    },
    {
      "cell_type": "code",
      "source": [
        "def align_left(df):\n",
        "  return (df.style.set_properties(**{'text-align': 'left'})).set_table_styles([dict(selector = 'th', props=[('text-align', 'left')])])"
      ],
      "metadata": {
        "id": "7BsQ2cR40CBP"
      },
      "execution_count": null,
      "outputs": []
    },
    {
      "cell_type": "code",
      "source": [
        "from PyDictionary import PyDictionary\n",
        "import pandas as pd\n",
        "\n",
        "pd.set_option('display.max_colwidth', None)\n",
        "\n",
        "dictionary=PyDictionary('Standing', 'teaching', 'reading')\n",
        "meanings = dictionary.getMeanings()\n",
        "meanings = pd.DataFrame(meanings) \n",
        "\n",
        "display(align_left(meanings))"
      ],
      "metadata": {
        "colab": {
          "base_uri": "https://localhost:8080/",
          "height": 369
        },
        "id": "EF5p63L0d4dA",
        "outputId": "42654b58-5bd1-42d8-8c92-b02cba2d4a89"
      },
      "execution_count": null,
      "outputs": [
        {
          "output_type": "display_data",
          "data": {
            "text/plain": [
              "<pandas.io.formats.style.Styler at 0x7fd666086d30>"
            ],
            "text/html": [
              "<style type=\"text/css\">\n",
              "#T_e327a_ th {\n",
              "  text-align: left;\n",
              "}\n",
              "#T_e327a_row0_col0, #T_e327a_row0_col1, #T_e327a_row0_col2, #T_e327a_row1_col0, #T_e327a_row1_col1, #T_e327a_row1_col2, #T_e327a_row2_col0, #T_e327a_row2_col1, #T_e327a_row2_col2 {\n",
              "  text-align: left;\n",
              "}\n",
              "</style>\n",
              "<table id=\"T_e327a_\" class=\"dataframe\">\n",
              "  <thead>\n",
              "    <tr>\n",
              "      <th class=\"blank level0\" >&nbsp;</th>\n",
              "      <th class=\"col_heading level0 col0\" >Standing</th>\n",
              "      <th class=\"col_heading level0 col1\" >teaching</th>\n",
              "      <th class=\"col_heading level0 col2\" >reading</th>\n",
              "    </tr>\n",
              "  </thead>\n",
              "  <tbody>\n",
              "    <tr>\n",
              "      <th id=\"T_e327a_level0_row0\" class=\"row_heading level0 row0\" >Noun</th>\n",
              "      <td id=\"T_e327a_row0_col0\" class=\"data row0 col0\" >['social or financial or professional status or reputation', 'an ordered listing of scores or results showing the relative positions of competitors (individuals or teams', 'the act of assuming or maintaining an erect upright position']</td>\n",
              "      <td id=\"T_e327a_row0_col1\" class=\"data row0 col1\" >['the profession of a teacher', 'a doctrine that is taught', 'the activities of educating or instructing; activities that impart knowledge or skill']</td>\n",
              "      <td id=\"T_e327a_row0_col2\" class=\"data row0 col2\" >['the cognitive process of understanding a written linguistic message', 'a particular interpretation or performance', 'a datum about some physical state that is presented to a user by a meter or similar instrument', 'written material intended to be read', 'a mental representation of the meaning or significance of something', 'a city on the River Thames in Berkshire in southern England', 'a public instance of reciting or repeating (from memory', 'the act of measuring with meters or similar instruments']</td>\n",
              "    </tr>\n",
              "    <tr>\n",
              "      <th id=\"T_e327a_level0_row1\" class=\"row_heading level0 row1\" >Verb</th>\n",
              "      <td id=\"T_e327a_row1_col0\" class=\"data row1 col0\" >['be standing; be upright', 'be in some specified state or condition', 'occupy a place or location, also metaphorically', \"hold one's ground; maintain a position; be steadfast or upright\", 'put up with something or somebody unpleasant', 'have or maintain a position or stand on an issue', 'remain inactive or immobile', 'be in effect; be or remain in force', 'be tall; have a height of; copula', 'put into an upright position', 'withstand the force of something', 'be available for stud services']</td>\n",
              "      <td id=\"T_e327a_row1_col1\" class=\"data row1 col1\" >['impart skills or knowledge to', 'accustom gradually to some action or attitude']</td>\n",
              "      <td id=\"T_e327a_row1_col2\" class=\"data row1 col2\" >['interpret something that is written or printed', 'have or contain a certain wording or form', 'look at, interpret, and say out loud something that is written or printed', 'obtain data from magnetic tapes or other digital sources', 'interpret the significance of, as of palms, tea leaves, intestines, the sky; also of human behavior', 'interpret something in a certain way; convey a particular meaning or impression', 'be a student of a certain subject', 'indicate a certain reading; of gauges and instruments', 'audition for a stage role by reading parts of a role', 'to hear and understand', 'make sense of a language']</td>\n",
              "    </tr>\n",
              "    <tr>\n",
              "      <th id=\"T_e327a_level0_row2\" class=\"row_heading level0 row2\" >Adjective</th>\n",
              "      <td id=\"T_e327a_row2_col0\" class=\"data row2 col0\" >['having a supporting base', 'not created for a particular occasion', '(of fluids', 'executed in or initiated from a standing position', '(of persons', 'permanent']</td>\n",
              "      <td id=\"T_e327a_row2_col1\" class=\"data row2 col1\" >nan</td>\n",
              "      <td id=\"T_e327a_row2_col2\" class=\"data row2 col2\" >nan</td>\n",
              "    </tr>\n",
              "  </tbody>\n",
              "</table>\n"
            ]
          },
          "metadata": {}
        }
      ]
    },
    {
      "cell_type": "markdown",
      "source": [
        "**from user input**"
      ],
      "metadata": {
        "id": "MLopYZiz74hi"
      }
    },
    {
      "cell_type": "code",
      "source": [
        "listOfWords = []\n",
        "\n",
        "word = input('Word: ')\n",
        "while(word != '0'):\n",
        "  listOfWords.append(word)\n",
        "  word = input('Word: ')"
      ],
      "metadata": {
        "colab": {
          "base_uri": "https://localhost:8080/"
        },
        "id": "6WYwF5rRxDlD",
        "outputId": "5ad44639-2923-40e1-9791-8c7dce2e0a68"
      },
      "execution_count": null,
      "outputs": [
        {
          "name": "stdout",
          "output_type": "stream",
          "text": [
            "Word: live\n",
            "Word: love\n",
            "Word: sing\n",
            "Word: teach\n",
            "Word: 0\n"
          ]
        }
      ]
    },
    {
      "cell_type": "code",
      "source": [
        "dictionary=PyDictionary(listOfWords)\n",
        "meanings = dictionary.getMeanings()\n",
        "meanings = pd.DataFrame(meanings) \n",
        "display(align_left(meanings))"
      ],
      "metadata": {
        "colab": {
          "base_uri": "https://localhost:8080/",
          "height": 418
        },
        "id": "p7UjpDJo5knr",
        "outputId": "4acc1814-3b14-4e14-d135-3df491dac3ef"
      },
      "execution_count": null,
      "outputs": [
        {
          "output_type": "display_data",
          "data": {
            "text/plain": [
              "<pandas.io.formats.style.Styler at 0x7fd6692ff700>"
            ],
            "text/html": [
              "<style type=\"text/css\">\n",
              "#T_493f1_ th {\n",
              "  text-align: left;\n",
              "}\n",
              "#T_493f1_row0_col0, #T_493f1_row0_col1, #T_493f1_row0_col2, #T_493f1_row0_col3, #T_493f1_row1_col0, #T_493f1_row1_col1, #T_493f1_row1_col2, #T_493f1_row1_col3, #T_493f1_row2_col0, #T_493f1_row2_col1, #T_493f1_row2_col2, #T_493f1_row2_col3, #T_493f1_row3_col0, #T_493f1_row3_col1, #T_493f1_row3_col2, #T_493f1_row3_col3 {\n",
              "  text-align: left;\n",
              "}\n",
              "</style>\n",
              "<table id=\"T_493f1_\" class=\"dataframe\">\n",
              "  <thead>\n",
              "    <tr>\n",
              "      <th class=\"blank level0\" >&nbsp;</th>\n",
              "      <th class=\"col_heading level0 col0\" >live</th>\n",
              "      <th class=\"col_heading level0 col1\" >love</th>\n",
              "      <th class=\"col_heading level0 col2\" >sing</th>\n",
              "      <th class=\"col_heading level0 col3\" >teach</th>\n",
              "    </tr>\n",
              "  </thead>\n",
              "  <tbody>\n",
              "    <tr>\n",
              "      <th id=\"T_493f1_level0_row0\" class=\"row_heading level0 row0\" >Verb</th>\n",
              "      <td id=\"T_493f1_row0_col0\" class=\"data row0 col0\" >['be an inhabitant of or reside in', 'lead a certain kind of life; live in a certain style', 'continue to live and avoid dying', 'support oneself', 'have life, be alive', 'have firsthand knowledge of states, situations, emotions, or sensations', 'pursue a positive and satisfying existence']</td>\n",
              "      <td id=\"T_493f1_row0_col1\" class=\"data row0 col1\" >['have a great affection or liking for', 'get pleasure from', 'be enamored or in love with', 'have sexual intercourse with']</td>\n",
              "      <td id=\"T_493f1_row0_col2\" class=\"data row0 col2\" >['deliver by singing', 'produce tones with the voice', 'to make melodious sounds', 'make a whining, ringing, or whistling sound', 'divulge confidential information or secrets']</td>\n",
              "      <td id=\"T_493f1_row0_col3\" class=\"data row0 col3\" >['impart skills or knowledge to', 'accustom gradually to some action or attitude']</td>\n",
              "    </tr>\n",
              "    <tr>\n",
              "      <th id=\"T_493f1_level0_row1\" class=\"row_heading level0 row1\" >Adjective</th>\n",
              "      <td id=\"T_493f1_row1_col0\" class=\"data row1 col0\" >['actually being performed at the time of hearing or viewing', 'exerting force or containing energy', 'possessing life', 'highly reverberant', 'charged with an explosive', 'elastic; rebounds readily', 'abounding with life and energy', 'in current use or ready for use', 'of current relevance', 'charged or energized with electricity', 'capable of erupting']</td>\n",
              "      <td id=\"T_493f1_row1_col1\" class=\"data row1 col1\" >nan</td>\n",
              "      <td id=\"T_493f1_row1_col2\" class=\"data row1 col2\" >nan</td>\n",
              "      <td id=\"T_493f1_row1_col3\" class=\"data row1 col3\" >nan</td>\n",
              "    </tr>\n",
              "    <tr>\n",
              "      <th id=\"T_493f1_level0_row2\" class=\"row_heading level0 row2\" >Adverb</th>\n",
              "      <td id=\"T_493f1_row2_col0\" class=\"data row2 col0\" >['not recorded']</td>\n",
              "      <td id=\"T_493f1_row2_col1\" class=\"data row2 col1\" >nan</td>\n",
              "      <td id=\"T_493f1_row2_col2\" class=\"data row2 col2\" >nan</td>\n",
              "      <td id=\"T_493f1_row2_col3\" class=\"data row2 col3\" >nan</td>\n",
              "    </tr>\n",
              "    <tr>\n",
              "      <th id=\"T_493f1_level0_row3\" class=\"row_heading level0 row3\" >Noun</th>\n",
              "      <td id=\"T_493f1_row3_col0\" class=\"data row3 col0\" >nan</td>\n",
              "      <td id=\"T_493f1_row3_col1\" class=\"data row3 col1\" >['a strong positive emotion of regard and affection', 'any object of warm affection or devotion', 'a beloved person; used as terms of endearment', 'a deep feeling of sexual desire and attraction', 'a score of zero in tennis or squash', 'sexual activities (often including sexual intercourse']</td>\n",
              "      <td id=\"T_493f1_row3_col2\" class=\"data row3 col2\" >nan</td>\n",
              "      <td id=\"T_493f1_row3_col3\" class=\"data row3 col3\" >['an English pirate who operated in the Caribbean and off the Atlantic coast of North America (died in 1718']</td>\n",
              "    </tr>\n",
              "  </tbody>\n",
              "</table>\n"
            ]
          },
          "metadata": {}
        }
      ]
    },
    {
      "cell_type": "code",
      "source": [
        "# dictionary.getAntonyms()\n",
        "\n",
        "# dictionary.getSynonyms()"
      ],
      "metadata": {
        "id": "c0bxeOnA69rr"
      },
      "execution_count": null,
      "outputs": []
    },
    {
      "cell_type": "code",
      "source": [
        "import langcodes\n",
        "str(langcodes.find('English (Canada)'))"
      ],
      "metadata": {
        "colab": {
          "base_uri": "https://localhost:8080/",
          "height": 36
        },
        "id": "ofkVFWdVFPa7",
        "outputId": "387f3134-9131-422a-c380-2e5ee2cbd6e6"
      },
      "execution_count": null,
      "outputs": [
        {
          "output_type": "execute_result",
          "data": {
            "text/plain": [
              "'en'"
            ],
            "application/vnd.google.colaboratory.intrinsic+json": {
              "type": "string"
            }
          },
          "metadata": {},
          "execution_count": 19
        }
      ]
    },
    {
      "cell_type": "code",
      "source": [
        "translateLanguage = input('Translate English -> ')\n",
        "print(list(dictionary))\n",
        "print(str(langcodes.find(translateLanguage)))\n",
        "text = dictionary.translateTo(str(langcodes.find(translateLanguage)))\n",
        "text"
      ],
      "metadata": {
        "colab": {
          "base_uri": "https://localhost:8080/"
        },
        "id": "WsA69HR0FSby",
        "outputId": "b377f67c-e83c-48ef-8c73-15058344d792"
      },
      "execution_count": null,
      "outputs": [
        {
          "output_type": "stream",
          "name": "stdout",
          "text": [
            "Translate English -> arabic\n",
            "['live', 'love', 'sing', 'teach']\n",
            "ar\n"
          ]
        },
        {
          "output_type": "execute_result",
          "data": {
            "text/plain": [
              "['يعيش', 'الحب', 'يغنى', 'يعلم']"
            ]
          },
          "metadata": {},
          "execution_count": 21
        }
      ]
    },
    {
      "cell_type": "code",
      "source": [
        "translateLanguage = input('Translate English -> ')\n",
        "content = input('Input: ')\n",
        "dictionary = PyDictionary()\n",
        "dictionary.translate(content, str(langcodes.find(translateLanguage)))"
      ],
      "metadata": {
        "colab": {
          "base_uri": "https://localhost:8080/",
          "height": 72
        },
        "id": "fGdRoy6rIXr4",
        "outputId": "f439e35d-1c9e-416b-a9b3-7f0e5b0162dd"
      },
      "execution_count": null,
      "outputs": [
        {
          "name": "stdout",
          "output_type": "stream",
          "text": [
            "Translate English -> japanese\n",
            "Input: love\n"
          ]
        },
        {
          "output_type": "execute_result",
          "data": {
            "text/plain": [
              "'愛'"
            ],
            "application/vnd.google.colaboratory.intrinsic+json": {
              "type": "string"
            }
          },
          "metadata": {},
          "execution_count": 23
        }
      ]
    }
  ]
}